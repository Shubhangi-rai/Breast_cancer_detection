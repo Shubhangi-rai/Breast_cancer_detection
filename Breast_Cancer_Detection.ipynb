{
 "cells": [
  {
   "cell_type": "code",
   "execution_count": 82,
   "metadata": {
    "id": "9h9VwWrbhEDP"
   },
   "outputs": [],
   "source": [
    "import pandas as pd\n",
    "import numpy as np\n",
    "\n",
    "from sklearn.datasets import load_breast_cancer\n",
    "from sklearn.preprocessing import StandardScaler\n",
    "\n",
    "from tensorflow.keras.models import Sequential\n",
    "from tensorflow.keras.layers import Dense"
   ]
  },
  {
   "cell_type": "code",
   "execution_count": 83,
   "metadata": {
    "id": "PKJ7JWdAmtg8"
   },
   "outputs": [],
   "source": [
    "data = load_breast_cancer()"
   ]
  },
  {
   "cell_type": "code",
   "execution_count": 84,
   "metadata": {
    "id": "epdBTC-im4Rb"
   },
   "outputs": [
    {
     "data": {
      "text/plain": [
       "dict_keys(['data', 'target', 'frame', 'target_names', 'DESCR', 'feature_names', 'filename'])"
      ]
     },
     "execution_count": 84,
     "metadata": {},
     "output_type": "execute_result"
    }
   ],
   "source": [
    "data.keys()"
   ]
  },
  {
   "cell_type": "code",
   "execution_count": 85,
   "metadata": {
    "id": "Iv9QGESOm6ni"
   },
   "outputs": [
    {
     "name": "stdout",
     "output_type": "stream",
     "text": [
      ".. _breast_cancer_dataset:\n",
      "\n",
      "Breast cancer wisconsin (diagnostic) dataset\n",
      "--------------------------------------------\n",
      "\n",
      "**Data Set Characteristics:**\n",
      "\n",
      "    :Number of Instances: 569\n",
      "\n",
      "    :Number of Attributes: 30 numeric, predictive attributes and the class\n",
      "\n",
      "    :Attribute Information:\n",
      "        - radius (mean of distances from center to points on the perimeter)\n",
      "        - texture (standard deviation of gray-scale values)\n",
      "        - perimeter\n",
      "        - area\n",
      "        - smoothness (local variation in radius lengths)\n",
      "        - compactness (perimeter^2 / area - 1.0)\n",
      "        - concavity (severity of concave portions of the contour)\n",
      "        - concave points (number of concave portions of the contour)\n",
      "        - symmetry\n",
      "        - fractal dimension (\"coastline approximation\" - 1)\n",
      "\n",
      "        The mean, standard error, and \"worst\" or largest (mean of the three\n",
      "        worst/largest values) of these features were computed for each image,\n",
      "        resulting in 30 features.  For instance, field 0 is Mean Radius, field\n",
      "        10 is Radius SE, field 20 is Worst Radius.\n",
      "\n",
      "        - class:\n",
      "                - WDBC-Malignant\n",
      "                - WDBC-Benign\n",
      "\n",
      "    :Summary Statistics:\n",
      "\n",
      "    ===================================== ====== ======\n",
      "                                           Min    Max\n",
      "    ===================================== ====== ======\n",
      "    radius (mean):                        6.981  28.11\n",
      "    texture (mean):                       9.71   39.28\n",
      "    perimeter (mean):                     43.79  188.5\n",
      "    area (mean):                          143.5  2501.0\n",
      "    smoothness (mean):                    0.053  0.163\n",
      "    compactness (mean):                   0.019  0.345\n",
      "    concavity (mean):                     0.0    0.427\n",
      "    concave points (mean):                0.0    0.201\n",
      "    symmetry (mean):                      0.106  0.304\n",
      "    fractal dimension (mean):             0.05   0.097\n",
      "    radius (standard error):              0.112  2.873\n",
      "    texture (standard error):             0.36   4.885\n",
      "    perimeter (standard error):           0.757  21.98\n",
      "    area (standard error):                6.802  542.2\n",
      "    smoothness (standard error):          0.002  0.031\n",
      "    compactness (standard error):         0.002  0.135\n",
      "    concavity (standard error):           0.0    0.396\n",
      "    concave points (standard error):      0.0    0.053\n",
      "    symmetry (standard error):            0.008  0.079\n",
      "    fractal dimension (standard error):   0.001  0.03\n",
      "    radius (worst):                       7.93   36.04\n",
      "    texture (worst):                      12.02  49.54\n",
      "    perimeter (worst):                    50.41  251.2\n",
      "    area (worst):                         185.2  4254.0\n",
      "    smoothness (worst):                   0.071  0.223\n",
      "    compactness (worst):                  0.027  1.058\n",
      "    concavity (worst):                    0.0    1.252\n",
      "    concave points (worst):               0.0    0.291\n",
      "    symmetry (worst):                     0.156  0.664\n",
      "    fractal dimension (worst):            0.055  0.208\n",
      "    ===================================== ====== ======\n",
      "\n",
      "    :Missing Attribute Values: None\n",
      "\n",
      "    :Class Distribution: 212 - Malignant, 357 - Benign\n",
      "\n",
      "    :Creator:  Dr. William H. Wolberg, W. Nick Street, Olvi L. Mangasarian\n",
      "\n",
      "    :Donor: Nick Street\n",
      "\n",
      "    :Date: November, 1995\n",
      "\n",
      "This is a copy of UCI ML Breast Cancer Wisconsin (Diagnostic) datasets.\n",
      "https://goo.gl/U2Uwz2\n",
      "\n",
      "Features are computed from a digitized image of a fine needle\n",
      "aspirate (FNA) of a breast mass.  They describe\n",
      "characteristics of the cell nuclei present in the image.\n",
      "\n",
      "Separating plane described above was obtained using\n",
      "Multisurface Method-Tree (MSM-T) [K. P. Bennett, \"Decision Tree\n",
      "Construction Via Linear Programming.\" Proceedings of the 4th\n",
      "Midwest Artificial Intelligence and Cognitive Science Society,\n",
      "pp. 97-101, 1992], a classification method which uses linear\n",
      "programming to construct a decision tree.  Relevant features\n",
      "were selected using an exhaustive search in the space of 1-4\n",
      "features and 1-3 separating planes.\n",
      "\n",
      "The actual linear program used to obtain the separating plane\n",
      "in the 3-dimensional space is that described in:\n",
      "[K. P. Bennett and O. L. Mangasarian: \"Robust Linear\n",
      "Programming Discrimination of Two Linearly Inseparable Sets\",\n",
      "Optimization Methods and Software 1, 1992, 23-34].\n",
      "\n",
      "This database is also available through the UW CS ftp server:\n",
      "\n",
      "ftp ftp.cs.wisc.edu\n",
      "cd math-prog/cpo-dataset/machine-learn/WDBC/\n",
      "\n",
      ".. topic:: References\n",
      "\n",
      "   - W.N. Street, W.H. Wolberg and O.L. Mangasarian. Nuclear feature extraction \n",
      "     for breast tumor diagnosis. IS&T/SPIE 1993 International Symposium on \n",
      "     Electronic Imaging: Science and Technology, volume 1905, pages 861-870,\n",
      "     San Jose, CA, 1993.\n",
      "   - O.L. Mangasarian, W.N. Street and W.H. Wolberg. Breast cancer diagnosis and \n",
      "     prognosis via linear programming. Operations Research, 43(4), pages 570-577, \n",
      "     July-August 1995.\n",
      "   - W.H. Wolberg, W.N. Street, and O.L. Mangasarian. Machine learning techniques\n",
      "     to diagnose breast cancer from fine-needle aspirates. Cancer Letters 77 (1994) \n",
      "     163-171.\n"
     ]
    }
   ],
   "source": [
    "print(data['DESCR'])"
   ]
  },
  {
   "cell_type": "code",
   "execution_count": 86,
   "metadata": {
    "id": "LD9ptFjvnuyz"
   },
   "outputs": [
    {
     "data": {
      "text/plain": [
       "(569, 30)"
      ]
     },
     "execution_count": 86,
     "metadata": {},
     "output_type": "execute_result"
    }
   ],
   "source": [
    "data['data'].shape"
   ]
  },
  {
   "cell_type": "code",
   "execution_count": 87,
   "metadata": {
    "id": "gIOjFb1ypLqB"
   },
   "outputs": [
    {
     "data": {
      "text/plain": [
       "array(['mean radius', 'mean texture', 'mean perimeter', 'mean area',\n",
       "       'mean smoothness', 'mean compactness', 'mean concavity',\n",
       "       'mean concave points', 'mean symmetry', 'mean fractal dimension',\n",
       "       'radius error', 'texture error', 'perimeter error', 'area error',\n",
       "       'smoothness error', 'compactness error', 'concavity error',\n",
       "       'concave points error', 'symmetry error',\n",
       "       'fractal dimension error', 'worst radius', 'worst texture',\n",
       "       'worst perimeter', 'worst area', 'worst smoothness',\n",
       "       'worst compactness', 'worst concavity', 'worst concave points',\n",
       "       'worst symmetry', 'worst fractal dimension'], dtype='<U23')"
      ]
     },
     "execution_count": 87,
     "metadata": {},
     "output_type": "execute_result"
    }
   ],
   "source": [
    "data['feature_names']"
   ]
  },
  {
   "cell_type": "code",
   "execution_count": 88,
   "metadata": {
    "id": "_Or3hS_KpeR0"
   },
   "outputs": [
    {
     "data": {
      "text/plain": [
       "array([1.799e+01, 1.038e+01, 1.228e+02, 1.001e+03, 1.184e-01, 2.776e-01,\n",
       "       3.001e-01, 1.471e-01, 2.419e-01, 7.871e-02, 1.095e+00, 9.053e-01,\n",
       "       8.589e+00, 1.534e+02, 6.399e-03, 4.904e-02, 5.373e-02, 1.587e-02,\n",
       "       3.003e-02, 6.193e-03, 2.538e+01, 1.733e+01, 1.846e+02, 2.019e+03,\n",
       "       1.622e-01, 6.656e-01, 7.119e-01, 2.654e-01, 4.601e-01, 1.189e-01])"
      ]
     },
     "execution_count": 88,
     "metadata": {},
     "output_type": "execute_result"
    }
   ],
   "source": [
    "data['data'][0]"
   ]
  },
  {
   "cell_type": "code",
   "execution_count": 89,
   "metadata": {
    "id": "66RDgPoPpkDH"
   },
   "outputs": [
    {
     "name": "stdout",
     "output_type": "stream",
     "text": [
      "mean radius : 17.99\n",
      "mean texture : 10.38\n",
      "mean perimeter : 122.8\n",
      "mean area : 1001.0\n",
      "mean smoothness : 0.1184\n",
      "mean compactness : 0.2776\n",
      "mean concavity : 0.3001\n",
      "mean concave points : 0.1471\n",
      "mean symmetry : 0.2419\n",
      "mean fractal dimension : 0.07871\n",
      "radius error : 1.095\n",
      "texture error : 0.9053\n",
      "perimeter error : 8.589\n",
      "area error : 153.4\n",
      "smoothness error : 0.006399\n",
      "compactness error : 0.04904\n",
      "concavity error : 0.05373\n",
      "concave points error : 0.01587\n",
      "symmetry error : 0.03003\n",
      "fractal dimension error : 0.006193\n",
      "worst radius : 25.38\n",
      "worst texture : 17.33\n",
      "worst perimeter : 184.6\n",
      "worst area : 2019.0\n",
      "worst smoothness : 0.1622\n",
      "worst compactness : 0.6656\n",
      "worst concavity : 0.7119\n",
      "worst concave points : 0.2654\n",
      "worst symmetry : 0.4601\n",
      "worst fractal dimension : 0.1189\n"
     ]
    }
   ],
   "source": [
    "j = 0\n",
    "for i in data['feature_names']:\n",
    "  print(i,\":\",data['data'][0][j])\n",
    "  j+=1"
   ]
  },
  {
   "cell_type": "code",
   "execution_count": 90,
   "metadata": {
    "id": "Nzk4dIoOqu1t"
   },
   "outputs": [],
   "source": [
    "feature = data['data']"
   ]
  },
  {
   "cell_type": "code",
   "execution_count": 91,
   "metadata": {
    "id": "KqwgdGdzp0ZX"
   },
   "outputs": [],
   "source": [
    "label = data['target']"
   ]
  },
  {
   "cell_type": "code",
   "execution_count": 92,
   "metadata": {
    "id": "UmP62MQWqiK1"
   },
   "outputs": [
    {
     "data": {
      "text/plain": [
       "array(['malignant', 'benign'], dtype='<U9')"
      ]
     },
     "execution_count": 92,
     "metadata": {},
     "output_type": "execute_result"
    }
   ],
   "source": [
    "data['target_names']"
   ]
  },
  {
   "cell_type": "code",
   "execution_count": 93,
   "metadata": {
    "id": "apyfDrfeqnC1"
   },
   "outputs": [
    {
     "data": {
      "text/plain": [
       "(569, 30)"
      ]
     },
     "execution_count": 93,
     "metadata": {},
     "output_type": "execute_result"
    }
   ],
   "source": [
    "feature.shape"
   ]
  },
  {
   "cell_type": "code",
   "execution_count": 94,
   "metadata": {
    "id": "Kn1TAFLfsQBc"
   },
   "outputs": [
    {
     "data": {
      "text/plain": [
       "(569,)"
      ]
     },
     "execution_count": 94,
     "metadata": {},
     "output_type": "execute_result"
    }
   ],
   "source": [
    "label.shape"
   ]
  },
  {
   "cell_type": "code",
   "execution_count": 95,
   "metadata": {
    "id": "LoUal6dDsr0T"
   },
   "outputs": [],
   "source": [
    "scale = StandardScaler()\n",
    "\n",
    "feature = scale.fit_transform(feature)"
   ]
  },
  {
   "cell_type": "code",
   "execution_count": 96,
   "metadata": {
    "id": "r_FOyQMHt8PT"
   },
   "outputs": [
    {
     "name": "stdout",
     "output_type": "stream",
     "text": [
      "mean radius : 1.0970639814699807\n",
      "mean texture : -2.0733350146975935\n",
      "mean perimeter : 1.2699336881399383\n",
      "mean area : 0.9843749048031144\n",
      "mean smoothness : 1.568466329243428\n",
      "mean compactness : 3.2835146709868264\n",
      "mean concavity : 2.652873983743168\n",
      "mean concave points : 2.532475216403245\n",
      "mean symmetry : 2.2175150059646405\n",
      "mean fractal dimension : 2.255746885296269\n",
      "radius error : 2.4897339267376193\n",
      "texture error : -0.5652650590684639\n",
      "perimeter error : 2.833030865855184\n",
      "area error : 2.4875775569611043\n",
      "smoothness error : -0.21400164666895383\n",
      "compactness error : 1.3168615683959484\n",
      "concavity error : 0.72402615808036\n",
      "concave points error : 0.6608199414286064\n",
      "symmetry error : 1.1487566671861758\n",
      "fractal dimension error : 0.9070830809973359\n",
      "worst radius : 1.8866896251792757\n",
      "worst texture : -1.3592934737640827\n",
      "worst perimeter : 2.3036006236225606\n",
      "worst area : 2.0012374893299207\n",
      "worst smoothness : 1.3076862710715387\n",
      "worst compactness : 2.616665023512603\n",
      "worst concavity : 2.1095263465722556\n",
      "worst concave points : 2.296076127561788\n",
      "worst symmetry : 2.750622244124955\n",
      "worst fractal dimension : 1.9370146123781782\n"
     ]
    }
   ],
   "source": [
    "j = 0\n",
    "for i in data['feature_names']:\n",
    "  print(i,\":\",feature[0][j])\n",
    "  j+=1"
   ]
  },
  {
   "cell_type": "code",
   "execution_count": 98,
   "metadata": {
    "id": "Ms1YidTfusxT"
   },
   "outputs": [],
   "source": [
    "df_frt = pd.DataFrame(feature , columns = data['feature_names'])\n",
    "df_lbl = pd.DataFrame(label , columns = ['label'])\n",
    "df = pd.concat([df_frt, df_lbl], axis=1)\n",
    "df = df.sample(frac = 1)\n",
    "\n",
    "feature = df.values[ : , : 30]\n",
    "label = df.values[ : ,30: ]"
   ]
  },
  {
   "cell_type": "code",
   "execution_count": 99,
   "metadata": {
    "id": "70TWMaSt-W4y"
   },
   "outputs": [
    {
     "data": {
      "text/html": [
       "<div>\n",
       "<style scoped>\n",
       "    .dataframe tbody tr th:only-of-type {\n",
       "        vertical-align: middle;\n",
       "    }\n",
       "\n",
       "    .dataframe tbody tr th {\n",
       "        vertical-align: top;\n",
       "    }\n",
       "\n",
       "    .dataframe thead th {\n",
       "        text-align: right;\n",
       "    }\n",
       "</style>\n",
       "<table border=\"1\" class=\"dataframe\">\n",
       "  <thead>\n",
       "    <tr style=\"text-align: right;\">\n",
       "      <th></th>\n",
       "      <th>mean radius</th>\n",
       "      <th>mean texture</th>\n",
       "      <th>mean perimeter</th>\n",
       "      <th>mean area</th>\n",
       "      <th>mean smoothness</th>\n",
       "      <th>mean compactness</th>\n",
       "      <th>mean concavity</th>\n",
       "      <th>mean concave points</th>\n",
       "      <th>mean symmetry</th>\n",
       "      <th>mean fractal dimension</th>\n",
       "      <th>...</th>\n",
       "      <th>worst texture</th>\n",
       "      <th>worst perimeter</th>\n",
       "      <th>worst area</th>\n",
       "      <th>worst smoothness</th>\n",
       "      <th>worst compactness</th>\n",
       "      <th>worst concavity</th>\n",
       "      <th>worst concave points</th>\n",
       "      <th>worst symmetry</th>\n",
       "      <th>worst fractal dimension</th>\n",
       "      <th>label</th>\n",
       "    </tr>\n",
       "  </thead>\n",
       "  <tbody>\n",
       "    <tr>\n",
       "      <th>84</th>\n",
       "      <td>-0.604181</td>\n",
       "      <td>-0.846971</td>\n",
       "      <td>-0.618637</td>\n",
       "      <td>-0.601781</td>\n",
       "      <td>0.061894</td>\n",
       "      <td>-0.619543</td>\n",
       "      <td>-0.593716</td>\n",
       "      <td>-0.781278</td>\n",
       "      <td>0.976194</td>\n",
       "      <td>-0.441954</td>\n",
       "      <td>...</td>\n",
       "      <td>-0.126566</td>\n",
       "      <td>-0.580264</td>\n",
       "      <td>-0.549670</td>\n",
       "      <td>0.233707</td>\n",
       "      <td>-0.343293</td>\n",
       "      <td>-0.218232</td>\n",
       "      <td>-0.582969</td>\n",
       "      <td>0.773694</td>\n",
       "      <td>-0.260777</td>\n",
       "      <td>1</td>\n",
       "    </tr>\n",
       "    <tr>\n",
       "      <th>494</th>\n",
       "      <td>-0.274725</td>\n",
       "      <td>0.290965</td>\n",
       "      <td>-0.325775</td>\n",
       "      <td>-0.330454</td>\n",
       "      <td>-1.637537</td>\n",
       "      <td>-0.977725</td>\n",
       "      <td>-0.888883</td>\n",
       "      <td>-0.937847</td>\n",
       "      <td>-0.360051</td>\n",
       "      <td>-0.555362</td>\n",
       "      <td>...</td>\n",
       "      <td>0.453158</td>\n",
       "      <td>-0.356573</td>\n",
       "      <td>-0.408333</td>\n",
       "      <td>-0.901643</td>\n",
       "      <td>-0.570395</td>\n",
       "      <td>-0.936517</td>\n",
       "      <td>-1.106307</td>\n",
       "      <td>-0.345810</td>\n",
       "      <td>-0.535085</td>\n",
       "      <td>1</td>\n",
       "    </tr>\n",
       "    <tr>\n",
       "      <th>32</th>\n",
       "      <td>0.821570</td>\n",
       "      <td>1.091476</td>\n",
       "      <td>0.858032</td>\n",
       "      <td>0.695130</td>\n",
       "      <td>1.660981</td>\n",
       "      <td>0.857725</td>\n",
       "      <td>1.919664</td>\n",
       "      <td>1.841196</td>\n",
       "      <td>1.593204</td>\n",
       "      <td>0.144934</td>\n",
       "      <td>...</td>\n",
       "      <td>1.044281</td>\n",
       "      <td>0.858987</td>\n",
       "      <td>0.814646</td>\n",
       "      <td>1.360289</td>\n",
       "      <td>0.646540</td>\n",
       "      <td>1.375025</td>\n",
       "      <td>1.067290</td>\n",
       "      <td>1.017979</td>\n",
       "      <td>0.048444</td>\n",
       "      <td>0</td>\n",
       "    </tr>\n",
       "    <tr>\n",
       "      <th>225</th>\n",
       "      <td>0.060412</td>\n",
       "      <td>-1.354271</td>\n",
       "      <td>0.022283</td>\n",
       "      <td>-0.038933</td>\n",
       "      <td>0.192127</td>\n",
       "      <td>-0.532555</td>\n",
       "      <td>-0.396226</td>\n",
       "      <td>-0.074523</td>\n",
       "      <td>0.961590</td>\n",
       "      <td>-1.179108</td>\n",
       "      <td>...</td>\n",
       "      <td>-1.429316</td>\n",
       "      <td>0.093491</td>\n",
       "      <td>-0.012979</td>\n",
       "      <td>-0.116980</td>\n",
       "      <td>-0.647368</td>\n",
       "      <td>-0.522875</td>\n",
       "      <td>-0.089932</td>\n",
       "      <td>0.260858</td>\n",
       "      <td>-1.287078</td>\n",
       "      <td>1</td>\n",
       "    </tr>\n",
       "    <tr>\n",
       "      <th>315</th>\n",
       "      <td>-0.465014</td>\n",
       "      <td>-0.567723</td>\n",
       "      <td>-0.526371</td>\n",
       "      <td>-0.492852</td>\n",
       "      <td>-0.800631</td>\n",
       "      <td>-1.250816</td>\n",
       "      <td>-1.058714</td>\n",
       "      <td>-1.096145</td>\n",
       "      <td>-2.178221</td>\n",
       "      <td>-0.860147</td>\n",
       "      <td>...</td>\n",
       "      <td>-0.971725</td>\n",
       "      <td>-0.678558</td>\n",
       "      <td>-0.591332</td>\n",
       "      <td>-0.963013</td>\n",
       "      <td>-1.302401</td>\n",
       "      <td>-1.212855</td>\n",
       "      <td>-1.321154</td>\n",
       "      <td>-1.591501</td>\n",
       "      <td>-1.230554</td>\n",
       "      <td>1</td>\n",
       "    </tr>\n",
       "    <tr>\n",
       "      <th>...</th>\n",
       "      <td>...</td>\n",
       "      <td>...</td>\n",
       "      <td>...</td>\n",
       "      <td>...</td>\n",
       "      <td>...</td>\n",
       "      <td>...</td>\n",
       "      <td>...</td>\n",
       "      <td>...</td>\n",
       "      <td>...</td>\n",
       "      <td>...</td>\n",
       "      <td>...</td>\n",
       "      <td>...</td>\n",
       "      <td>...</td>\n",
       "      <td>...</td>\n",
       "      <td>...</td>\n",
       "      <td>...</td>\n",
       "      <td>...</td>\n",
       "      <td>...</td>\n",
       "      <td>...</td>\n",
       "      <td>...</td>\n",
       "      <td>...</td>\n",
       "    </tr>\n",
       "    <tr>\n",
       "      <th>179</th>\n",
       "      <td>-0.374130</td>\n",
       "      <td>-1.449681</td>\n",
       "      <td>-0.439872</td>\n",
       "      <td>-0.415492</td>\n",
       "      <td>-0.638374</td>\n",
       "      <td>-1.262187</td>\n",
       "      <td>-0.999455</td>\n",
       "      <td>-0.918760</td>\n",
       "      <td>-1.261834</td>\n",
       "      <td>-0.208049</td>\n",
       "      <td>...</td>\n",
       "      <td>-1.551449</td>\n",
       "      <td>-0.612433</td>\n",
       "      <td>-0.544747</td>\n",
       "      <td>-0.708765</td>\n",
       "      <td>-1.271103</td>\n",
       "      <td>-1.173515</td>\n",
       "      <td>-1.137522</td>\n",
       "      <td>-1.808284</td>\n",
       "      <td>-0.596042</td>\n",
       "      <td>1</td>\n",
       "    </tr>\n",
       "    <tr>\n",
       "      <th>273</th>\n",
       "      <td>-1.245485</td>\n",
       "      <td>-0.842317</td>\n",
       "      <td>-1.255026</td>\n",
       "      <td>-1.038066</td>\n",
       "      <td>-0.426301</td>\n",
       "      <td>-1.088781</td>\n",
       "      <td>-0.976392</td>\n",
       "      <td>-0.898898</td>\n",
       "      <td>0.983496</td>\n",
       "      <td>0.045702</td>\n",
       "      <td>...</td>\n",
       "      <td>-0.781198</td>\n",
       "      <td>-1.166747</td>\n",
       "      <td>-0.923578</td>\n",
       "      <td>0.628230</td>\n",
       "      <td>-1.021418</td>\n",
       "      <td>-1.111867</td>\n",
       "      <td>-0.959523</td>\n",
       "      <td>-0.096672</td>\n",
       "      <td>-0.121683</td>\n",
       "      <td>1</td>\n",
       "    </tr>\n",
       "    <tr>\n",
       "      <th>52</th>\n",
       "      <td>-0.621222</td>\n",
       "      <td>-0.244260</td>\n",
       "      <td>-0.669713</td>\n",
       "      <td>-0.617993</td>\n",
       "      <td>-0.978545</td>\n",
       "      <td>-1.077031</td>\n",
       "      <td>-0.867289</td>\n",
       "      <td>-0.913859</td>\n",
       "      <td>0.205845</td>\n",
       "      <td>-0.240654</td>\n",
       "      <td>...</td>\n",
       "      <td>-0.707918</td>\n",
       "      <td>-0.702684</td>\n",
       "      <td>-0.621217</td>\n",
       "      <td>-0.787669</td>\n",
       "      <td>-1.050935</td>\n",
       "      <td>-0.864315</td>\n",
       "      <td>-0.786396</td>\n",
       "      <td>-0.187267</td>\n",
       "      <td>-0.546722</td>\n",
       "      <td>1</td>\n",
       "    </tr>\n",
       "    <tr>\n",
       "      <th>111</th>\n",
       "      <td>-0.425252</td>\n",
       "      <td>0.342161</td>\n",
       "      <td>-0.404448</td>\n",
       "      <td>-0.496265</td>\n",
       "      <td>0.211341</td>\n",
       "      <td>0.313818</td>\n",
       "      <td>0.222232</td>\n",
       "      <td>0.291236</td>\n",
       "      <td>-0.279730</td>\n",
       "      <td>1.120246</td>\n",
       "      <td>...</td>\n",
       "      <td>-0.033745</td>\n",
       "      <td>-0.543926</td>\n",
       "      <td>-0.620865</td>\n",
       "      <td>-0.160816</td>\n",
       "      <td>-0.186167</td>\n",
       "      <td>-0.242699</td>\n",
       "      <td>-0.062524</td>\n",
       "      <td>-1.091607</td>\n",
       "      <td>0.050660</td>\n",
       "      <td>1</td>\n",
       "    </tr>\n",
       "    <tr>\n",
       "      <th>333</th>\n",
       "      <td>-0.817192</td>\n",
       "      <td>-1.049425</td>\n",
       "      <td>-0.848066</td>\n",
       "      <td>-0.753372</td>\n",
       "      <td>-0.946520</td>\n",
       "      <td>-1.132559</td>\n",
       "      <td>-1.102648</td>\n",
       "      <td>-1.185959</td>\n",
       "      <td>-0.140994</td>\n",
       "      <td>-0.281764</td>\n",
       "      <td>...</td>\n",
       "      <td>-0.589042</td>\n",
       "      <td>-0.750044</td>\n",
       "      <td>-0.681865</td>\n",
       "      <td>-0.691230</td>\n",
       "      <td>-0.994446</td>\n",
       "      <td>-1.279358</td>\n",
       "      <td>-1.491235</td>\n",
       "      <td>-0.138734</td>\n",
       "      <td>-0.541181</td>\n",
       "      <td>1</td>\n",
       "    </tr>\n",
       "  </tbody>\n",
       "</table>\n",
       "<p>569 rows × 31 columns</p>\n",
       "</div>"
      ],
      "text/plain": [
       "     mean radius  mean texture  mean perimeter  mean area  mean smoothness  \\\n",
       "84     -0.604181     -0.846971       -0.618637  -0.601781         0.061894   \n",
       "494    -0.274725      0.290965       -0.325775  -0.330454        -1.637537   \n",
       "32      0.821570      1.091476        0.858032   0.695130         1.660981   \n",
       "225     0.060412     -1.354271        0.022283  -0.038933         0.192127   \n",
       "315    -0.465014     -0.567723       -0.526371  -0.492852        -0.800631   \n",
       "..           ...           ...             ...        ...              ...   \n",
       "179    -0.374130     -1.449681       -0.439872  -0.415492        -0.638374   \n",
       "273    -1.245485     -0.842317       -1.255026  -1.038066        -0.426301   \n",
       "52     -0.621222     -0.244260       -0.669713  -0.617993        -0.978545   \n",
       "111    -0.425252      0.342161       -0.404448  -0.496265         0.211341   \n",
       "333    -0.817192     -1.049425       -0.848066  -0.753372        -0.946520   \n",
       "\n",
       "     mean compactness  mean concavity  mean concave points  mean symmetry  \\\n",
       "84          -0.619543       -0.593716            -0.781278       0.976194   \n",
       "494         -0.977725       -0.888883            -0.937847      -0.360051   \n",
       "32           0.857725        1.919664             1.841196       1.593204   \n",
       "225         -0.532555       -0.396226            -0.074523       0.961590   \n",
       "315         -1.250816       -1.058714            -1.096145      -2.178221   \n",
       "..                ...             ...                  ...            ...   \n",
       "179         -1.262187       -0.999455            -0.918760      -1.261834   \n",
       "273         -1.088781       -0.976392            -0.898898       0.983496   \n",
       "52          -1.077031       -0.867289            -0.913859       0.205845   \n",
       "111          0.313818        0.222232             0.291236      -0.279730   \n",
       "333         -1.132559       -1.102648            -1.185959      -0.140994   \n",
       "\n",
       "     mean fractal dimension  ...  worst texture  worst perimeter  worst area  \\\n",
       "84                -0.441954  ...      -0.126566        -0.580264   -0.549670   \n",
       "494               -0.555362  ...       0.453158        -0.356573   -0.408333   \n",
       "32                 0.144934  ...       1.044281         0.858987    0.814646   \n",
       "225               -1.179108  ...      -1.429316         0.093491   -0.012979   \n",
       "315               -0.860147  ...      -0.971725        -0.678558   -0.591332   \n",
       "..                      ...  ...            ...              ...         ...   \n",
       "179               -0.208049  ...      -1.551449        -0.612433   -0.544747   \n",
       "273                0.045702  ...      -0.781198        -1.166747   -0.923578   \n",
       "52                -0.240654  ...      -0.707918        -0.702684   -0.621217   \n",
       "111                1.120246  ...      -0.033745        -0.543926   -0.620865   \n",
       "333               -0.281764  ...      -0.589042        -0.750044   -0.681865   \n",
       "\n",
       "     worst smoothness  worst compactness  worst concavity  \\\n",
       "84           0.233707          -0.343293        -0.218232   \n",
       "494         -0.901643          -0.570395        -0.936517   \n",
       "32           1.360289           0.646540         1.375025   \n",
       "225         -0.116980          -0.647368        -0.522875   \n",
       "315         -0.963013          -1.302401        -1.212855   \n",
       "..                ...                ...              ...   \n",
       "179         -0.708765          -1.271103        -1.173515   \n",
       "273          0.628230          -1.021418        -1.111867   \n",
       "52          -0.787669          -1.050935        -0.864315   \n",
       "111         -0.160816          -0.186167        -0.242699   \n",
       "333         -0.691230          -0.994446        -1.279358   \n",
       "\n",
       "     worst concave points  worst symmetry  worst fractal dimension  label  \n",
       "84              -0.582969        0.773694                -0.260777      1  \n",
       "494             -1.106307       -0.345810                -0.535085      1  \n",
       "32               1.067290        1.017979                 0.048444      0  \n",
       "225             -0.089932        0.260858                -1.287078      1  \n",
       "315             -1.321154       -1.591501                -1.230554      1  \n",
       "..                    ...             ...                      ...    ...  \n",
       "179             -1.137522       -1.808284                -0.596042      1  \n",
       "273             -0.959523       -0.096672                -0.121683      1  \n",
       "52              -0.786396       -0.187267                -0.546722      1  \n",
       "111             -0.062524       -1.091607                 0.050660      1  \n",
       "333             -1.491235       -0.138734                -0.541181      1  \n",
       "\n",
       "[569 rows x 31 columns]"
      ]
     },
     "execution_count": 99,
     "metadata": {},
     "output_type": "execute_result"
    }
   ],
   "source": [
    "df"
   ]
  },
  {
   "cell_type": "code",
   "execution_count": 100,
   "metadata": {
    "id": "OwHAshL8wxmf"
   },
   "outputs": [],
   "source": [
    "#500 Training\n",
    "X_train = feature[:500]\n",
    "y_train = label[:500]\n",
    "\n",
    "#35 Validation\n",
    "X_val = feature[500:535]\n",
    "y_val = label[500:535]\n",
    "\n",
    "#34 Testing\n",
    "X_test = feature[535:]\n",
    "y_test = label[535:]"
   ]
  },
  {
   "cell_type": "code",
   "execution_count": 101,
   "metadata": {
    "id": "Nzj-pXW1vIJg"
   },
   "outputs": [],
   "source": [
    "model = Sequential()\n",
    "\n",
    "model.add(Dense(32, activation = 'relu', input_dim = 30))\n",
    "model.add(Dense(64, activation = 'relu'))\n",
    "model.add(Dense(128, activation = 'relu'))\n",
    "model.add(Dense(64, activation = 'relu'))\n",
    "model.add(Dense(32, activation = 'relu'))\n",
    "model.add(Dense(1, activation = 'sigmoid'))\n",
    "\n",
    "model.compile( loss = 'binary_crossentropy' , optimizer = 'adam' , metrics = ['accuracy'])"
   ]
  },
  {
   "cell_type": "code",
   "execution_count": 102,
   "metadata": {
    "id": "Myowb1aFz353"
   },
   "outputs": [
    {
     "name": "stdout",
     "output_type": "stream",
     "text": [
      "Epoch 1/10\n",
      "100/100 [==============================] - 1s 14ms/step - loss: 0.2238 - accuracy: 0.9340 - val_loss: 0.0911 - val_accuracy: 0.9714\n",
      "Epoch 2/10\n",
      "100/100 [==============================] - 1s 8ms/step - loss: 0.0943 - accuracy: 0.9680 - val_loss: 0.0446 - val_accuracy: 1.0000\n",
      "Epoch 3/10\n",
      "100/100 [==============================] - 1s 6ms/step - loss: 0.0549 - accuracy: 0.9840 - val_loss: 0.0430 - val_accuracy: 1.0000\n",
      "Epoch 4/10\n",
      "100/100 [==============================] - 0s 5ms/step - loss: 0.0536 - accuracy: 0.9840 - val_loss: 0.0260 - val_accuracy: 1.0000\n",
      "Epoch 5/10\n",
      "100/100 [==============================] - 0s 5ms/step - loss: 0.0374 - accuracy: 0.9920 - val_loss: 0.0264 - val_accuracy: 1.0000\n",
      "Epoch 6/10\n",
      "100/100 [==============================] - 0s 5ms/step - loss: 0.0256 - accuracy: 0.9940 - val_loss: 0.0321 - val_accuracy: 1.0000\n",
      "Epoch 7/10\n",
      "100/100 [==============================] - 0s 5ms/step - loss: 0.0237 - accuracy: 0.9920 - val_loss: 0.1880 - val_accuracy: 0.9714\n",
      "Epoch 8/10\n",
      "100/100 [==============================] - 1s 5ms/step - loss: 0.0180 - accuracy: 0.9940 - val_loss: 0.1120 - val_accuracy: 0.9714\n",
      "Epoch 9/10\n",
      "100/100 [==============================] - 1s 5ms/step - loss: 0.0158 - accuracy: 0.9960 - val_loss: 0.1321 - val_accuracy: 0.9714\n",
      "Epoch 10/10\n",
      "100/100 [==============================] - 1s 5ms/step - loss: 0.0076 - accuracy: 0.9980 - val_loss: 0.1078 - val_accuracy: 0.9714\n"
     ]
    },
    {
     "data": {
      "text/plain": [
       "<tensorflow.python.keras.callbacks.History at 0x9c3553d670>"
      ]
     },
     "execution_count": 102,
     "metadata": {},
     "output_type": "execute_result"
    }
   ],
   "source": [
    "model.fit( X_train , y_train, epochs = 10, batch_size = 5, validation_data = (X_val, y_val))"
   ]
  },
  {
   "cell_type": "code",
   "execution_count": 103,
   "metadata": {
    "id": "WjQrOpwc2S03"
   },
   "outputs": [
    {
     "name": "stdout",
     "output_type": "stream",
     "text": [
      "2/2 [==============================] - 0s 4ms/step - loss: 0.1087 - accuracy: 0.9706\n"
     ]
    },
    {
     "data": {
      "text/plain": [
       "[0.10866637527942657, 0.970588207244873]"
      ]
     },
     "execution_count": 103,
     "metadata": {},
     "output_type": "execute_result"
    }
   ],
   "source": [
    "model.evaluate(X_test , y_test)"
   ]
  },
  {
   "cell_type": "code",
   "execution_count": 104,
   "metadata": {
    "id": "Iw4189HY6bC0"
   },
   "outputs": [
    {
     "name": "stdout",
     "output_type": "stream",
     "text": [
      "2/2 [==============================] - 0s 4ms/step - loss: 0.1078 - accuracy: 0.9714\n"
     ]
    },
    {
     "data": {
      "text/plain": [
       "[0.10778392106294632, 0.9714285731315613]"
      ]
     },
     "execution_count": 104,
     "metadata": {},
     "output_type": "execute_result"
    }
   ],
   "source": [
    "model.evaluate(X_val , y_val)"
   ]
  },
  {
   "cell_type": "code",
   "execution_count": 115,
   "metadata": {
    "id": "GVKgag0986kX"
   },
   "outputs": [
    {
     "name": "stdout",
     "output_type": "stream",
     "text": [
      "-Malignant\n",
      "*Melignant\n",
      "-----------\n",
      "-Malignant\n",
      "*Melignant\n",
      "-----------\n",
      "-Benign\n",
      "*Banign\n",
      "-----------\n",
      "-Benign\n",
      "*Banign\n",
      "-----------\n",
      "-Benign\n",
      "*Melignant\n",
      "-----------\n",
      "-Malignant\n",
      "*Melignant\n",
      "-----------\n",
      "-Benign\n",
      "*Banign\n",
      "-----------\n",
      "-Malignant\n",
      "*Melignant\n",
      "-----------\n",
      "-Benign\n",
      "*Banign\n",
      "-----------\n",
      "-Benign\n",
      "*Banign\n",
      "-----------\n",
      "-Benign\n",
      "*Banign\n",
      "-----------\n",
      "-Benign\n",
      "*Banign\n",
      "-----------\n",
      "-Benign\n",
      "*Banign\n",
      "-----------\n",
      "-Benign\n",
      "*Banign\n",
      "-----------\n",
      "-Benign\n",
      "*Banign\n",
      "-----------\n",
      "-Benign\n",
      "*Banign\n",
      "-----------\n",
      "-Benign\n",
      "*Banign\n",
      "-----------\n",
      "-Malignant\n",
      "*Melignant\n",
      "-----------\n",
      "-Malignant\n",
      "*Melignant\n",
      "-----------\n",
      "-Benign\n",
      "*Banign\n",
      "-----------\n",
      "-Malignant\n",
      "*Melignant\n",
      "-----------\n",
      "-Benign\n",
      "*Banign\n",
      "-----------\n",
      "-Benign\n",
      "*Banign\n",
      "-----------\n",
      "-Benign\n",
      "*Banign\n",
      "-----------\n",
      "-Benign\n",
      "*Banign\n",
      "-----------\n",
      "-Benign\n",
      "*Banign\n",
      "-----------\n",
      "-Benign\n",
      "*Banign\n",
      "-----------\n",
      "-Malignant\n",
      "*Melignant\n",
      "-----------\n",
      "-Benign\n",
      "*Banign\n",
      "-----------\n",
      "-Benign\n",
      "*Banign\n",
      "-----------\n",
      "22 / 21\n",
      "8 / 9\n"
     ]
    }
   ],
   "source": [
    "predict_banign =0\n",
    "actual_banign =0\n",
    "predict_malignant =0\n",
    "actual_malignant =0\n",
    "for i in range(30):\n",
    "  sample = X_test[i]\n",
    "  sample = np.reshape(sample, (1,30))\n",
    "\n",
    "  if (model.predict(sample)[0][0] > 0.5):\n",
    "    print(\"-Benign\")\n",
    "    predict_banign+=1\n",
    "  else:\n",
    "    print(\"-Malignant\")\n",
    "    predict_malignant+=1\n",
    "\n",
    "  if (y_test[i] == 1):\n",
    "    print(\"*Banign\")\n",
    "    actual_banign +=1\n",
    "  else:\n",
    "    print(\"*Melignant\")\n",
    "    actual_malignant +=1\n",
    "    \n",
    "  print(\"-----------\")\n",
    "print(predict_banign,'/',actual_banign)\n",
    "print(predict_malignant,'/',actual_malignant)"
   ]
  },
  {
   "cell_type": "code",
   "execution_count": null,
   "metadata": {
    "id": "J-X2emHxGeZr"
   },
   "outputs": [],
   "source": []
  }
 ],
 "metadata": {
  "colab": {
   "collapsed_sections": [],
   "name": "Breast Cancer Detection",
   "private_outputs": true,
   "provenance": []
  },
  "kernelspec": {
   "display_name": "Python 3",
   "language": "python",
   "name": "python3"
  },
  "language_info": {
   "codemirror_mode": {
    "name": "ipython",
    "version": 3
   },
   "file_extension": ".py",
   "mimetype": "text/x-python",
   "name": "python",
   "nbconvert_exporter": "python",
   "pygments_lexer": "ipython3",
   "version": "3.8.8"
  }
 },
 "nbformat": 4,
 "nbformat_minor": 1
}
